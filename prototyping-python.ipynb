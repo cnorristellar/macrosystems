{
 "cells": [
  {
   "cell_type": "code",
   "execution_count": 2,
   "metadata": {},
   "outputs": [],
   "source": [
    "# Import python packages\n",
    "import os\n",
    "from glob import glob\n",
    "import requests \n",
    "import json \n",
    "\n",
    "import numpy as np\n",
    "import pandas as pd \n",
    "import geopandas as gpd\n",
    "import matplotlib.pyplot as plt\n",
    "import contextily as cx \n",
    "\n"
   ]
  },
  {
   "cell_type": "code",
   "execution_count": 3,
   "metadata": {},
   "outputs": [
    {
     "name": "stdout",
     "output_type": "stream",
     "text": [
      "0     ABBY\n",
      "1     ARIK\n",
      "2     BARC\n",
      "3     BARR\n",
      "4     BART\n",
      "      ... \n",
      "76    WALK\n",
      "77    WLOU\n",
      "78    WOOD\n",
      "79    WREF\n",
      "80    YELL\n",
      "Name: field_site_id, Length: 81, dtype: object\n"
     ]
    }
   ],
   "source": [
    "# Load .csv metadata\n",
    "metadata = pd.read_csv('data/NEON_Field_Site_Metadata_20220224.csv')\n",
    "print(metadata.field_site_id)"
   ]
  },
  {
   "cell_type": "code",
   "execution_count": 4,
   "metadata": {},
   "outputs": [
    {
     "data": {
      "text/plain": [
       "dict_keys(['data'])"
      ]
     },
     "execution_count": 4,
     "metadata": {},
     "output_type": "execute_result"
    }
   ],
   "source": [
    "#Every request begins with the server's URL\n",
    "SERVER = 'http://data.neonscience.org/api/v0/'\n",
    "SITECODE = 'NIWO'\n",
    "\n",
    "site_request = requests.get(SERVER + 'sites/' + SITECODE)\n",
    "\n",
    "# Convert to Python JSON object\n",
    "site_json = site_request.json()\n",
    "site_json.keys()"
   ]
  },
  {
   "cell_type": "code",
   "execution_count": 5,
   "metadata": {},
   "outputs": [
    {
     "data": {
      "text/plain": [
       "dict_keys(['siteCode', 'siteName', 'siteDescription', 'siteType', 'siteLatitude', 'siteLongitude', 'stateCode', 'stateName', 'domainCode', 'domainName', 'deimsId', 'releases', 'dataProducts'])"
      ]
     },
     "execution_count": 5,
     "metadata": {},
     "output_type": "execute_result"
    }
   ],
   "source": [
    "site_json['data'].keys()"
   ]
  },
  {
   "cell_type": "code",
   "execution_count": 6,
   "metadata": {},
   "outputs": [
    {
     "name": "stdout",
     "output_type": "stream",
     "text": [
      "DP1.00001.001 2D wind speed and direction\n",
      "DP1.00002.001 Single aspirated air temperature\n",
      "DP1.00003.001 Triple aspirated air temperature\n",
      "DP1.00004.001 Barometric pressure\n",
      "DP1.00005.001 IR biological temperature\n",
      "DP1.00006.001 Precipitation\n",
      "DP1.00013.001 Wet deposition chemical analysis\n",
      "DP1.00014.001 Shortwave radiation (direct and diffuse pyranometer)\n",
      "DP1.00017.001 Dust and particulate size distribution\n",
      "DP1.00022.001 Shortwave radiation (primary pyranometer)\n",
      "DP1.00023.001 Shortwave and longwave radiation (net radiometer)\n",
      "DP1.00024.001 Photosynthetically active radiation (PAR)\n",
      "DP1.00033.001 Phenology images\n",
      "DP1.00038.001 Stable isotopes in precipitation\n",
      "DP1.00040.001 Soil heat flux plate\n",
      "DP1.00041.001 Soil temperature\n",
      "DP1.00042.001 Snow depth and understory phenology images\n",
      "DP1.00043.001 Spectral sun photometer - calibrated sky radiances\n",
      "DP1.00066.001 Photosynthetically active radiation (quantum line)\n",
      "DP1.00094.001 Soil water content and water salinity\n",
      "DP1.00095.001 Soil CO2 concentration\n",
      "DP1.00096.001 Soil physical and chemical properties, Megapit\n",
      "DP1.00098.001 Relative humidity\n",
      "DP1.00101.001 Particulate mass\n",
      "DP1.10003.001 Breeding landbird point counts\n",
      "DP1.10010.001 Coarse downed wood log survey\n",
      "DP1.10014.001 Coarse downed wood bulk density sampling\n",
      "DP1.10017.001 Digital hemispheric photos of plot vegetation\n",
      "DP1.10020.001 Ground beetle sequences DNA barcode\n",
      "DP1.10022.001 Ground beetles sampled from pitfall traps\n",
      "DP1.10023.001 Herbaceous clip harvest\n",
      "DP1.10026.001 Plant foliar traits\n",
      "DP1.10033.001 Litterfall and fine woody debris production and chemistry\n",
      "DP1.10038.001 Mosquito sequences DNA barcode\n",
      "DP1.10041.001 Mosquito pathogen status\n",
      "DP1.10043.001 Mosquitoes sampled from CO2 traps\n",
      "DP1.10047.001 Soil physical and chemical properties, distributed initial characterization\n",
      "DP1.10055.001 Plant phenology observations\n",
      "DP1.10058.001 Plant presence and percent cover\n",
      "DP1.10064.001 Rodent pathogen status, hantavirus\n",
      "DP1.10066.001 Root biomass and chemistry, Megapit\n",
      "DP1.10067.001 Root biomass and chemistry, periodic\n",
      "DP1.10072.001 Small mammal box trapping\n",
      "DP1.10076.001 Small mammal sequences DNA barcode\n",
      "DP1.10081.001 Soil microbe community composition\n",
      "DP1.10086.001 Soil physical and chemical properties, periodic\n",
      "DP1.10093.001 Ticks sampled using drag cloths\n",
      "DP1.10098.001 Vegetation structure\n",
      "DP1.10104.001 Soil microbe biomass\n",
      "DP1.10107.001 Soil microbe metagenome sequences\n",
      "DP1.10108.001 Soil microbe marker gene sequences\n",
      "DP1.10109.001 Soil microbe group abundances\n",
      "DP1.10111.001 Site management and event reporting\n",
      "DP1.30001.001 LiDAR slant range waveform\n",
      "DP1.30003.001 Discrete return LiDAR point cloud\n",
      "DP1.30006.001 Spectrometer orthorectified surface directional reflectance - flightline\n",
      "DP1.30008.001 Spectrometer orthrorectified at-sensor radiance - flightline\n",
      "DP1.30010.001 High-resolution orthorectified camera imagery\n",
      "DP2.30011.001 Albedo - spectrometer - flightline\n",
      "DP2.30012.001 LAI - spectrometer - flightline\n",
      "DP2.30014.001 fPAR - spectrometer - flightline\n",
      "DP2.30019.001 Canopy water indices - flightline\n",
      "DP2.30026.001 Vegetation indices - spectrometer - flightline\n",
      "DP3.30006.001 Spectrometer orthorectified surface directional reflectance - mosaic\n",
      "DP3.30010.001 High-resolution orthorectified camera imagery mosaic\n",
      "DP3.30011.001 Albedo - spectrometer - mosaic\n",
      "DP3.30012.001 LAI - spectrometer - mosaic\n",
      "DP3.30014.001 fPAR - spectrometer - mosaic\n",
      "DP3.30015.001 Ecosystem structure\n",
      "DP3.30019.001 Canopy water indices - mosaic\n",
      "DP3.30024.001 Elevation - LiDAR\n",
      "DP3.30025.001 Slope and Aspect - LiDAR\n",
      "DP3.30026.001 Vegetation indices - spectrometer - mosaic\n",
      "DP4.00001.001 Summary weather statistics\n",
      "DP4.00200.001 Bundled data products - eddy covariance\n"
     ]
    }
   ],
   "source": [
    "for product in site_json['data']['dataProducts']:\n",
    "    print(product['dataProductCode'],product['dataProductTitle'])\n",
    "    "
   ]
  },
  {
   "cell_type": "code",
   "execution_count": null,
   "metadata": {},
   "outputs": [],
   "source": []
  }
 ],
 "metadata": {
  "interpreter": {
   "hash": "92c1287ec3b939ec43b729ea28d434467fd4f9be1b1fd73c8f062c3cd3b5968c"
  },
  "kernelspec": {
   "display_name": "Python 3.8.12 ('earth-analytics-python')",
   "language": "python",
   "name": "python3"
  },
  "language_info": {
   "codemirror_mode": {
    "name": "ipython",
    "version": 3
   },
   "file_extension": ".py",
   "mimetype": "text/x-python",
   "name": "python",
   "nbconvert_exporter": "python",
   "pygments_lexer": "ipython3",
   "version": "3.8.12"
  },
  "orig_nbformat": 4
 },
 "nbformat": 4,
 "nbformat_minor": 2
}
